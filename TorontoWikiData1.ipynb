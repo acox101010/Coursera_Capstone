{
 "cells": [
  {
   "cell_type": "markdown",
   "metadata": {},
   "source": [
    "<h3>Week 3 Assignment on Segmenting and Clustering</h3>"
   ]
  },
  {
   "cell_type": "code",
   "execution_count": 86,
   "metadata": {},
   "outputs": [],
   "source": [
    "import pandas as pd\n",
    "import numpy as np\n",
    "from bs4 import BeautifulSoup\n",
    "import requests\n",
    "import matplotlib.pyplot as plt\n",
    "import csv\n",
    "import urllib\n",
    "import re\n",
    "%matplotlib inline"
   ]
  },
  {
   "cell_type": "code",
   "execution_count": 87,
   "metadata": {},
   "outputs": [
    {
     "data": {
      "text/plain": [
       "bs4.element.ResultSet"
      ]
     },
     "execution_count": 87,
     "metadata": {},
     "output_type": "execute_result"
    }
   ],
   "source": [
    "#Extract table from wiki\n",
    "source = requests.get('https://en.wikipedia.org/wiki/List_of_postal_codes_of_Canada:_M').text\n",
    "soup = BeautifulSoup(source,'lxml')\n",
    "\n",
    "tabs = soup.find_all('table', class_='wikitable sortable')\n",
    "#print(tabs)\n",
    "#print(tabs.prettify())\n",
    "\n",
    "type(tabs)"
   ]
  },
  {
   "cell_type": "markdown",
   "metadata": {},
   "source": [
    "<h3> Extract Data from Wikipedia</h3>"
   ]
  },
  {
   "cell_type": "code",
   "execution_count": 88,
   "metadata": {},
   "outputs": [
    {
     "data": {
      "text/plain": [
       "bs4.element.Tag"
      ]
     },
     "execution_count": 88,
     "metadata": {},
     "output_type": "execute_result"
    }
   ],
   "source": [
    "tabs = tabs[0]\n",
    "type(tabs)"
   ]
  },
  {
   "cell_type": "code",
   "execution_count": 89,
   "metadata": {},
   "outputs": [],
   "source": [
    "#EXTRACT DATA AND WRITE TO CSV FILE\n",
    "with open('wikidata.csv', 'a') as csvFile:\n",
    "    for row in tabs.find_all('tr'):\n",
    "        writer = csv.writer(csvFile)\n",
    "        writer.writerow(row)"
   ]
  },
  {
   "cell_type": "code",
   "execution_count": 90,
   "metadata": {},
   "outputs": [],
   "source": [
    "#Convert csv to dataframe\n",
    "datadf = pd.read_csv('wikidata.csv')\n",
    "#datadf = datadf.drop(['.1', '.2'], axis=1)"
   ]
  },
  {
   "cell_type": "markdown",
   "metadata": {},
   "source": [
    "<h3>Transform Data to Dataframe</h3>"
   ]
  },
  {
   "cell_type": "code",
   "execution_count": 91,
   "metadata": {},
   "outputs": [
    {
     "data": {
      "text/html": [
       "<div>\n",
       "<style scoped>\n",
       "    .dataframe tbody tr th:only-of-type {\n",
       "        vertical-align: middle;\n",
       "    }\n",
       "\n",
       "    .dataframe tbody tr th {\n",
       "        vertical-align: top;\n",
       "    }\n",
       "\n",
       "    .dataframe thead th {\n",
       "        text-align: right;\n",
       "    }\n",
       "</style>\n",
       "<table border=\"1\" class=\"dataframe\">\n",
       "  <thead>\n",
       "    <tr style=\"text-align: right;\">\n",
       "      <th></th>\n",
       "      <th></th>\n",
       "      <th>&lt;th&gt;Postcode&lt;/th&gt;</th>\n",
       "      <th>.1</th>\n",
       "      <th>&lt;th&gt;Borough&lt;/th&gt;</th>\n",
       "      <th>.2</th>\n",
       "      <th>&lt;th&gt;Neighbourhood\n",
       "&lt;/th&gt;</th>\n",
       "    </tr>\n",
       "  </thead>\n",
       "  <tbody>\n",
       "    <tr>\n",
       "      <th>0</th>\n",
       "      <td>\\n</td>\n",
       "      <td>&lt;td&gt;M1A&lt;/td&gt;</td>\n",
       "      <td>\\n</td>\n",
       "      <td>&lt;td&gt;Not assigned&lt;/td&gt;</td>\n",
       "      <td>\\n</td>\n",
       "      <td>&lt;td&gt;Not assigned\\n&lt;/td&gt;</td>\n",
       "    </tr>\n",
       "    <tr>\n",
       "      <th>1</th>\n",
       "      <td>\\n</td>\n",
       "      <td>&lt;td&gt;M2A&lt;/td&gt;</td>\n",
       "      <td>\\n</td>\n",
       "      <td>&lt;td&gt;Not assigned&lt;/td&gt;</td>\n",
       "      <td>\\n</td>\n",
       "      <td>&lt;td&gt;Not assigned\\n&lt;/td&gt;</td>\n",
       "    </tr>\n",
       "    <tr>\n",
       "      <th>2</th>\n",
       "      <td>\\n</td>\n",
       "      <td>&lt;td&gt;M3A&lt;/td&gt;</td>\n",
       "      <td>\\n</td>\n",
       "      <td>&lt;td&gt;&lt;a href=\"/wiki/North_York\" title=\"North Yo...</td>\n",
       "      <td>\\n</td>\n",
       "      <td>&lt;td&gt;&lt;a href=\"/wiki/Parkwoods\" title=\"Parkwoods...</td>\n",
       "    </tr>\n",
       "    <tr>\n",
       "      <th>3</th>\n",
       "      <td>\\n</td>\n",
       "      <td>&lt;td&gt;M4A&lt;/td&gt;</td>\n",
       "      <td>\\n</td>\n",
       "      <td>&lt;td&gt;&lt;a href=\"/wiki/North_York\" title=\"North Yo...</td>\n",
       "      <td>\\n</td>\n",
       "      <td>&lt;td&gt;&lt;a href=\"/wiki/Victoria_Village\" title=\"Vi...</td>\n",
       "    </tr>\n",
       "    <tr>\n",
       "      <th>4</th>\n",
       "      <td>\\n</td>\n",
       "      <td>&lt;td&gt;M5A&lt;/td&gt;</td>\n",
       "      <td>\\n</td>\n",
       "      <td>&lt;td&gt;&lt;a href=\"/wiki/Downtown_Toronto\" title=\"Do...</td>\n",
       "      <td>\\n</td>\n",
       "      <td>&lt;td&gt;&lt;a href=\"/wiki/Harbourfront_(Toronto)\" tit...</td>\n",
       "    </tr>\n",
       "    <tr>\n",
       "      <th>5</th>\n",
       "      <td>\\n</td>\n",
       "      <td>&lt;td&gt;M5A&lt;/td&gt;</td>\n",
       "      <td>\\n</td>\n",
       "      <td>&lt;td&gt;&lt;a href=\"/wiki/Downtown_Toronto\" title=\"Do...</td>\n",
       "      <td>\\n</td>\n",
       "      <td>&lt;td&gt;&lt;a href=\"/wiki/Regent_Park\" title=\"Regent ...</td>\n",
       "    </tr>\n",
       "    <tr>\n",
       "      <th>6</th>\n",
       "      <td>\\n</td>\n",
       "      <td>&lt;td&gt;M6A&lt;/td&gt;</td>\n",
       "      <td>\\n</td>\n",
       "      <td>&lt;td&gt;&lt;a href=\"/wiki/North_York\" title=\"North Yo...</td>\n",
       "      <td>\\n</td>\n",
       "      <td>&lt;td&gt;&lt;a href=\"/wiki/Lawrence_Heights\" title=\"La...</td>\n",
       "    </tr>\n",
       "    <tr>\n",
       "      <th>7</th>\n",
       "      <td>\\n</td>\n",
       "      <td>&lt;td&gt;M6A&lt;/td&gt;</td>\n",
       "      <td>\\n</td>\n",
       "      <td>&lt;td&gt;&lt;a href=\"/wiki/North_York\" title=\"North Yo...</td>\n",
       "      <td>\\n</td>\n",
       "      <td>&lt;td&gt;&lt;a href=\"/wiki/Lawrence_Manor\" title=\"Lawr...</td>\n",
       "    </tr>\n",
       "    <tr>\n",
       "      <th>8</th>\n",
       "      <td>\\n</td>\n",
       "      <td>&lt;td&gt;M7A&lt;/td&gt;</td>\n",
       "      <td>\\n</td>\n",
       "      <td>&lt;td&gt;&lt;a href=\"/wiki/Queen%27s_Park_(Toronto)\" t...</td>\n",
       "      <td>\\n</td>\n",
       "      <td>&lt;td&gt;Not assigned\\n&lt;/td&gt;</td>\n",
       "    </tr>\n",
       "    <tr>\n",
       "      <th>9</th>\n",
       "      <td>\\n</td>\n",
       "      <td>&lt;td&gt;M8A&lt;/td&gt;</td>\n",
       "      <td>\\n</td>\n",
       "      <td>&lt;td&gt;Not assigned&lt;/td&gt;</td>\n",
       "      <td>\\n</td>\n",
       "      <td>&lt;td&gt;Not assigned\\n&lt;/td&gt;</td>\n",
       "    </tr>\n",
       "  </tbody>\n",
       "</table>\n",
       "</div>"
      ],
      "text/plain": [
       "   \\n <th>Postcode</th> \\n.1  \\\n",
       "0  \\n      <td>M1A</td>   \\n   \n",
       "1  \\n      <td>M2A</td>   \\n   \n",
       "2  \\n      <td>M3A</td>   \\n   \n",
       "3  \\n      <td>M4A</td>   \\n   \n",
       "4  \\n      <td>M5A</td>   \\n   \n",
       "5  \\n      <td>M5A</td>   \\n   \n",
       "6  \\n      <td>M6A</td>   \\n   \n",
       "7  \\n      <td>M6A</td>   \\n   \n",
       "8  \\n      <td>M7A</td>   \\n   \n",
       "9  \\n      <td>M8A</td>   \\n   \n",
       "\n",
       "                                    <th>Borough</th> \\n.2  \\\n",
       "0                              <td>Not assigned</td>   \\n   \n",
       "1                              <td>Not assigned</td>   \\n   \n",
       "2  <td><a href=\"/wiki/North_York\" title=\"North Yo...   \\n   \n",
       "3  <td><a href=\"/wiki/North_York\" title=\"North Yo...   \\n   \n",
       "4  <td><a href=\"/wiki/Downtown_Toronto\" title=\"Do...   \\n   \n",
       "5  <td><a href=\"/wiki/Downtown_Toronto\" title=\"Do...   \\n   \n",
       "6  <td><a href=\"/wiki/North_York\" title=\"North Yo...   \\n   \n",
       "7  <td><a href=\"/wiki/North_York\" title=\"North Yo...   \\n   \n",
       "8  <td><a href=\"/wiki/Queen%27s_Park_(Toronto)\" t...   \\n   \n",
       "9                              <td>Not assigned</td>   \\n   \n",
       "\n",
       "                            <th>Neighbourhood\\n</th>  \n",
       "0                            <td>Not assigned\\n</td>  \n",
       "1                            <td>Not assigned\\n</td>  \n",
       "2  <td><a href=\"/wiki/Parkwoods\" title=\"Parkwoods...  \n",
       "3  <td><a href=\"/wiki/Victoria_Village\" title=\"Vi...  \n",
       "4  <td><a href=\"/wiki/Harbourfront_(Toronto)\" tit...  \n",
       "5  <td><a href=\"/wiki/Regent_Park\" title=\"Regent ...  \n",
       "6  <td><a href=\"/wiki/Lawrence_Heights\" title=\"La...  \n",
       "7  <td><a href=\"/wiki/Lawrence_Manor\" title=\"Lawr...  \n",
       "8                            <td>Not assigned\\n</td>  \n",
       "9                            <td>Not assigned\\n</td>  "
      ]
     },
     "execution_count": 91,
     "metadata": {},
     "output_type": "execute_result"
    }
   ],
   "source": [
    "datadf.head(10)"
   ]
  },
  {
   "cell_type": "code",
   "execution_count": 92,
   "metadata": {},
   "outputs": [],
   "source": [
    "#Replace columns with column headers\n",
    "datadf.columns = [\"one\",\"Postcode\",\"two\", \"Borough\",\"three\", \"Neighbourhood\"]"
   ]
  },
  {
   "cell_type": "code",
   "execution_count": 93,
   "metadata": {},
   "outputs": [
    {
     "data": {
      "text/html": [
       "<div>\n",
       "<style scoped>\n",
       "    .dataframe tbody tr th:only-of-type {\n",
       "        vertical-align: middle;\n",
       "    }\n",
       "\n",
       "    .dataframe tbody tr th {\n",
       "        vertical-align: top;\n",
       "    }\n",
       "\n",
       "    .dataframe thead th {\n",
       "        text-align: right;\n",
       "    }\n",
       "</style>\n",
       "<table border=\"1\" class=\"dataframe\">\n",
       "  <thead>\n",
       "    <tr style=\"text-align: right;\">\n",
       "      <th></th>\n",
       "      <th>one</th>\n",
       "      <th>Postcode</th>\n",
       "      <th>two</th>\n",
       "      <th>Borough</th>\n",
       "      <th>three</th>\n",
       "      <th>Neighbourhood</th>\n",
       "    </tr>\n",
       "  </thead>\n",
       "  <tbody>\n",
       "    <tr>\n",
       "      <th>0</th>\n",
       "      <td>\\n</td>\n",
       "      <td>M1A</td>\n",
       "      <td>\\n</td>\n",
       "      <td>&lt;td&gt;Not assigned&lt;/td&gt;</td>\n",
       "      <td>\\n</td>\n",
       "      <td>&lt;td&gt;Not assigned\\n&lt;/td&gt;</td>\n",
       "    </tr>\n",
       "    <tr>\n",
       "      <th>1</th>\n",
       "      <td>\\n</td>\n",
       "      <td>M2A</td>\n",
       "      <td>\\n</td>\n",
       "      <td>&lt;td&gt;Not assigned&lt;/td&gt;</td>\n",
       "      <td>\\n</td>\n",
       "      <td>&lt;td&gt;Not assigned\\n&lt;/td&gt;</td>\n",
       "    </tr>\n",
       "    <tr>\n",
       "      <th>2</th>\n",
       "      <td>\\n</td>\n",
       "      <td>M3A</td>\n",
       "      <td>\\n</td>\n",
       "      <td>&lt;td&gt;&lt;a href=\"/wiki/North_York\" title=\"North Yo...</td>\n",
       "      <td>\\n</td>\n",
       "      <td>&lt;td&gt;&lt;a href=\"/wiki/Parkwoods\" title=\"Parkwoods...</td>\n",
       "    </tr>\n",
       "    <tr>\n",
       "      <th>3</th>\n",
       "      <td>\\n</td>\n",
       "      <td>M4A</td>\n",
       "      <td>\\n</td>\n",
       "      <td>&lt;td&gt;&lt;a href=\"/wiki/North_York\" title=\"North Yo...</td>\n",
       "      <td>\\n</td>\n",
       "      <td>&lt;td&gt;&lt;a href=\"/wiki/Victoria_Village\" title=\"Vi...</td>\n",
       "    </tr>\n",
       "    <tr>\n",
       "      <th>4</th>\n",
       "      <td>\\n</td>\n",
       "      <td>M5A</td>\n",
       "      <td>\\n</td>\n",
       "      <td>&lt;td&gt;&lt;a href=\"/wiki/Downtown_Toronto\" title=\"Do...</td>\n",
       "      <td>\\n</td>\n",
       "      <td>&lt;td&gt;&lt;a href=\"/wiki/Harbourfront_(Toronto)\" tit...</td>\n",
       "    </tr>\n",
       "  </tbody>\n",
       "</table>\n",
       "</div>"
      ],
      "text/plain": [
       "  one Postcode two                                            Borough three  \\\n",
       "0  \\n      M1A  \\n                              <td>Not assigned</td>    \\n   \n",
       "1  \\n      M2A  \\n                              <td>Not assigned</td>    \\n   \n",
       "2  \\n      M3A  \\n  <td><a href=\"/wiki/North_York\" title=\"North Yo...    \\n   \n",
       "3  \\n      M4A  \\n  <td><a href=\"/wiki/North_York\" title=\"North Yo...    \\n   \n",
       "4  \\n      M5A  \\n  <td><a href=\"/wiki/Downtown_Toronto\" title=\"Do...    \\n   \n",
       "\n",
       "                                       Neighbourhood  \n",
       "0                            <td>Not assigned\\n</td>  \n",
       "1                            <td>Not assigned\\n</td>  \n",
       "2  <td><a href=\"/wiki/Parkwoods\" title=\"Parkwoods...  \n",
       "3  <td><a href=\"/wiki/Victoria_Village\" title=\"Vi...  \n",
       "4  <td><a href=\"/wiki/Harbourfront_(Toronto)\" tit...  "
      ]
     },
     "execution_count": 93,
     "metadata": {},
     "output_type": "execute_result"
    }
   ],
   "source": [
    "#Strip unwanted characters out of Postcode\n",
    "datadf['Postcode'] = datadf['Postcode'].map(lambda x: x.lstrip('<td>').rstrip('</td>'))\n",
    "datadf.head()"
   ]
  },
  {
   "cell_type": "code",
   "execution_count": 94,
   "metadata": {},
   "outputs": [],
   "source": [
    "#Drop unwanted columns\n",
    "datadf = datadf.drop([\"one\",\"two\",\"three\"], axis=1)"
   ]
  },
  {
   "cell_type": "code",
   "execution_count": 95,
   "metadata": {},
   "outputs": [
    {
     "data": {
      "text/html": [
       "<div>\n",
       "<style scoped>\n",
       "    .dataframe tbody tr th:only-of-type {\n",
       "        vertical-align: middle;\n",
       "    }\n",
       "\n",
       "    .dataframe tbody tr th {\n",
       "        vertical-align: top;\n",
       "    }\n",
       "\n",
       "    .dataframe thead th {\n",
       "        text-align: right;\n",
       "    }\n",
       "</style>\n",
       "<table border=\"1\" class=\"dataframe\">\n",
       "  <thead>\n",
       "    <tr style=\"text-align: right;\">\n",
       "      <th></th>\n",
       "      <th>Postcode</th>\n",
       "      <th>Borough</th>\n",
       "      <th>Neighbourhood</th>\n",
       "    </tr>\n",
       "  </thead>\n",
       "  <tbody>\n",
       "    <tr>\n",
       "      <th>0</th>\n",
       "      <td>M1A</td>\n",
       "      <td>NaN</td>\n",
       "      <td>&lt;td&gt;Not assigned\\n&lt;/td&gt;</td>\n",
       "    </tr>\n",
       "    <tr>\n",
       "      <th>1</th>\n",
       "      <td>M2A</td>\n",
       "      <td>NaN</td>\n",
       "      <td>&lt;td&gt;Not assigned\\n&lt;/td&gt;</td>\n",
       "    </tr>\n",
       "    <tr>\n",
       "      <th>2</th>\n",
       "      <td>M3A</td>\n",
       "      <td>North York</td>\n",
       "      <td>&lt;td&gt;&lt;a href=\"/wiki/Parkwoods\" title=\"Parkwoods...</td>\n",
       "    </tr>\n",
       "    <tr>\n",
       "      <th>3</th>\n",
       "      <td>M4A</td>\n",
       "      <td>North York</td>\n",
       "      <td>&lt;td&gt;&lt;a href=\"/wiki/Victoria_Village\" title=\"Vi...</td>\n",
       "    </tr>\n",
       "    <tr>\n",
       "      <th>4</th>\n",
       "      <td>M5A</td>\n",
       "      <td>Downtown Toronto</td>\n",
       "      <td>&lt;td&gt;&lt;a href=\"/wiki/Harbourfront_(Toronto)\" tit...</td>\n",
       "    </tr>\n",
       "  </tbody>\n",
       "</table>\n",
       "</div>"
      ],
      "text/plain": [
       "  Postcode           Borough  \\\n",
       "0      M1A               NaN   \n",
       "1      M2A               NaN   \n",
       "2      M3A        North York   \n",
       "3      M4A        North York   \n",
       "4      M5A  Downtown Toronto   \n",
       "\n",
       "                                       Neighbourhood  \n",
       "0                            <td>Not assigned\\n</td>  \n",
       "1                            <td>Not assigned\\n</td>  \n",
       "2  <td><a href=\"/wiki/Parkwoods\" title=\"Parkwoods...  \n",
       "3  <td><a href=\"/wiki/Victoria_Village\" title=\"Vi...  \n",
       "4  <td><a href=\"/wiki/Harbourfront_(Toronto)\" tit...  "
      ]
     },
     "execution_count": 95,
     "metadata": {},
     "output_type": "execute_result"
    }
   ],
   "source": [
    "#\"Clean column using Regular Expressions\"\n",
    "datadf['Borough'] = datadf['Borough'].str.extract(r'title=\"(.*?)\">')\n",
    "datadf.head()"
   ]
  },
  {
   "cell_type": "code",
   "execution_count": 96,
   "metadata": {},
   "outputs": [
    {
     "data": {
      "text/html": [
       "<div>\n",
       "<style scoped>\n",
       "    .dataframe tbody tr th:only-of-type {\n",
       "        vertical-align: middle;\n",
       "    }\n",
       "\n",
       "    .dataframe tbody tr th {\n",
       "        vertical-align: top;\n",
       "    }\n",
       "\n",
       "    .dataframe thead th {\n",
       "        text-align: right;\n",
       "    }\n",
       "</style>\n",
       "<table border=\"1\" class=\"dataframe\">\n",
       "  <thead>\n",
       "    <tr style=\"text-align: right;\">\n",
       "      <th></th>\n",
       "      <th>Postcode</th>\n",
       "      <th>Borough</th>\n",
       "      <th>Neighbourhood</th>\n",
       "    </tr>\n",
       "  </thead>\n",
       "  <tbody>\n",
       "    <tr>\n",
       "      <th>0</th>\n",
       "      <td>M1A</td>\n",
       "      <td>NaN</td>\n",
       "      <td>NaN</td>\n",
       "    </tr>\n",
       "    <tr>\n",
       "      <th>1</th>\n",
       "      <td>M2A</td>\n",
       "      <td>NaN</td>\n",
       "      <td>NaN</td>\n",
       "    </tr>\n",
       "    <tr>\n",
       "      <th>2</th>\n",
       "      <td>M3A</td>\n",
       "      <td>North York</td>\n",
       "      <td>Parkwoods</td>\n",
       "    </tr>\n",
       "    <tr>\n",
       "      <th>3</th>\n",
       "      <td>M4A</td>\n",
       "      <td>North York</td>\n",
       "      <td>Victoria Village</td>\n",
       "    </tr>\n",
       "    <tr>\n",
       "      <th>4</th>\n",
       "      <td>M5A</td>\n",
       "      <td>Downtown Toronto</td>\n",
       "      <td>Harbourfront (Toronto)</td>\n",
       "    </tr>\n",
       "    <tr>\n",
       "      <th>5</th>\n",
       "      <td>M5A</td>\n",
       "      <td>Downtown Toronto</td>\n",
       "      <td>Regent Park</td>\n",
       "    </tr>\n",
       "    <tr>\n",
       "      <th>6</th>\n",
       "      <td>M6A</td>\n",
       "      <td>North York</td>\n",
       "      <td>Lawrence Heights</td>\n",
       "    </tr>\n",
       "    <tr>\n",
       "      <th>7</th>\n",
       "      <td>M6A</td>\n",
       "      <td>North York</td>\n",
       "      <td>Lawrence Manor</td>\n",
       "    </tr>\n",
       "    <tr>\n",
       "      <th>8</th>\n",
       "      <td>M7A</td>\n",
       "      <td>Queen's Park (Toronto)</td>\n",
       "      <td>NaN</td>\n",
       "    </tr>\n",
       "    <tr>\n",
       "      <th>9</th>\n",
       "      <td>M8A</td>\n",
       "      <td>NaN</td>\n",
       "      <td>NaN</td>\n",
       "    </tr>\n",
       "  </tbody>\n",
       "</table>\n",
       "</div>"
      ],
      "text/plain": [
       "  Postcode                 Borough           Neighbourhood\n",
       "0      M1A                     NaN                     NaN\n",
       "1      M2A                     NaN                     NaN\n",
       "2      M3A              North York               Parkwoods\n",
       "3      M4A              North York        Victoria Village\n",
       "4      M5A        Downtown Toronto  Harbourfront (Toronto)\n",
       "5      M5A        Downtown Toronto             Regent Park\n",
       "6      M6A              North York        Lawrence Heights\n",
       "7      M6A              North York          Lawrence Manor\n",
       "8      M7A  Queen's Park (Toronto)                     NaN\n",
       "9      M8A                     NaN                     NaN"
      ]
     },
     "execution_count": 96,
     "metadata": {},
     "output_type": "execute_result"
    }
   ],
   "source": [
    "#\"Clean column using Regular Expressions\"\n",
    "datadf['Neighbourhood'] = datadf['Neighbourhood'].str.extract(r'title=\"(.*?)\">')\n",
    "datadf.head(10)"
   ]
  },
  {
   "cell_type": "code",
   "execution_count": 97,
   "metadata": {},
   "outputs": [],
   "source": [
    "#Remove null data from Borough Column\n",
    "datadf = datadf[pd.notnull(datadf['Borough'])]"
   ]
  },
  {
   "cell_type": "code",
   "execution_count": 98,
   "metadata": {},
   "outputs": [
    {
     "data": {
      "text/html": [
       "<div>\n",
       "<style scoped>\n",
       "    .dataframe tbody tr th:only-of-type {\n",
       "        vertical-align: middle;\n",
       "    }\n",
       "\n",
       "    .dataframe tbody tr th {\n",
       "        vertical-align: top;\n",
       "    }\n",
       "\n",
       "    .dataframe thead th {\n",
       "        text-align: right;\n",
       "    }\n",
       "</style>\n",
       "<table border=\"1\" class=\"dataframe\">\n",
       "  <thead>\n",
       "    <tr style=\"text-align: right;\">\n",
       "      <th></th>\n",
       "      <th>Postcode</th>\n",
       "      <th>Borough</th>\n",
       "      <th>Neighbourhood</th>\n",
       "    </tr>\n",
       "  </thead>\n",
       "  <tbody>\n",
       "    <tr>\n",
       "      <th>2</th>\n",
       "      <td>M3A</td>\n",
       "      <td>North York</td>\n",
       "      <td>Parkwoods</td>\n",
       "    </tr>\n",
       "    <tr>\n",
       "      <th>3</th>\n",
       "      <td>M4A</td>\n",
       "      <td>North York</td>\n",
       "      <td>Victoria Village</td>\n",
       "    </tr>\n",
       "    <tr>\n",
       "      <th>4</th>\n",
       "      <td>M5A</td>\n",
       "      <td>Downtown Toronto</td>\n",
       "      <td>Harbourfront (Toronto)</td>\n",
       "    </tr>\n",
       "    <tr>\n",
       "      <th>5</th>\n",
       "      <td>M5A</td>\n",
       "      <td>Downtown Toronto</td>\n",
       "      <td>Regent Park</td>\n",
       "    </tr>\n",
       "    <tr>\n",
       "      <th>6</th>\n",
       "      <td>M6A</td>\n",
       "      <td>North York</td>\n",
       "      <td>Lawrence Heights</td>\n",
       "    </tr>\n",
       "  </tbody>\n",
       "</table>\n",
       "</div>"
      ],
      "text/plain": [
       "  Postcode           Borough           Neighbourhood\n",
       "2      M3A        North York               Parkwoods\n",
       "3      M4A        North York        Victoria Village\n",
       "4      M5A  Downtown Toronto  Harbourfront (Toronto)\n",
       "5      M5A  Downtown Toronto             Regent Park\n",
       "6      M6A        North York        Lawrence Heights"
      ]
     },
     "execution_count": 98,
     "metadata": {},
     "output_type": "execute_result"
    }
   ],
   "source": [
    "datadf.head()"
   ]
  },
  {
   "cell_type": "code",
   "execution_count": 99,
   "metadata": {},
   "outputs": [
    {
     "data": {
      "text/plain": [
       "<pandas.core.groupby.generic.DataFrameGroupBy object at 0x7f0a24626240>"
      ]
     },
     "execution_count": 99,
     "metadata": {},
     "output_type": "execute_result"
    }
   ],
   "source": [
    "datadf.groupby(['Postcode'])"
   ]
  },
  {
   "cell_type": "code",
   "execution_count": 100,
   "metadata": {},
   "outputs": [
    {
     "data": {
      "text/html": [
       "<div>\n",
       "<style scoped>\n",
       "    .dataframe tbody tr th:only-of-type {\n",
       "        vertical-align: middle;\n",
       "    }\n",
       "\n",
       "    .dataframe tbody tr th {\n",
       "        vertical-align: top;\n",
       "    }\n",
       "\n",
       "    .dataframe thead th {\n",
       "        text-align: right;\n",
       "    }\n",
       "</style>\n",
       "<table border=\"1\" class=\"dataframe\">\n",
       "  <thead>\n",
       "    <tr style=\"text-align: right;\">\n",
       "      <th></th>\n",
       "      <th>Postcode</th>\n",
       "      <th>Borough</th>\n",
       "      <th>Neighbourhood</th>\n",
       "    </tr>\n",
       "  </thead>\n",
       "  <tbody>\n",
       "    <tr>\n",
       "      <th>2</th>\n",
       "      <td>M3A</td>\n",
       "      <td>North York</td>\n",
       "      <td>Parkwoods</td>\n",
       "    </tr>\n",
       "    <tr>\n",
       "      <th>3</th>\n",
       "      <td>M4A</td>\n",
       "      <td>North York</td>\n",
       "      <td>Victoria Village</td>\n",
       "    </tr>\n",
       "    <tr>\n",
       "      <th>4</th>\n",
       "      <td>M5A</td>\n",
       "      <td>Downtown Toronto</td>\n",
       "      <td>Harbourfront (Toronto)</td>\n",
       "    </tr>\n",
       "    <tr>\n",
       "      <th>5</th>\n",
       "      <td>M5A</td>\n",
       "      <td>Downtown Toronto</td>\n",
       "      <td>Regent Park</td>\n",
       "    </tr>\n",
       "    <tr>\n",
       "      <th>6</th>\n",
       "      <td>M6A</td>\n",
       "      <td>North York</td>\n",
       "      <td>Lawrence Heights</td>\n",
       "    </tr>\n",
       "    <tr>\n",
       "      <th>7</th>\n",
       "      <td>M6A</td>\n",
       "      <td>North York</td>\n",
       "      <td>Lawrence Manor</td>\n",
       "    </tr>\n",
       "    <tr>\n",
       "      <th>8</th>\n",
       "      <td>M7A</td>\n",
       "      <td>Queen's Park (Toronto)</td>\n",
       "      <td>Queen's Park (Toronto)</td>\n",
       "    </tr>\n",
       "    <tr>\n",
       "      <th>10</th>\n",
       "      <td>M9A</td>\n",
       "      <td>Etobicoke</td>\n",
       "      <td>Islington Avenue</td>\n",
       "    </tr>\n",
       "    <tr>\n",
       "      <th>11</th>\n",
       "      <td>M1B</td>\n",
       "      <td>Scarborough, Toronto</td>\n",
       "      <td>Rouge, Toronto</td>\n",
       "    </tr>\n",
       "    <tr>\n",
       "      <th>12</th>\n",
       "      <td>M1B</td>\n",
       "      <td>Scarborough, Toronto</td>\n",
       "      <td>Malvern, Toronto</td>\n",
       "    </tr>\n",
       "  </tbody>\n",
       "</table>\n",
       "</div>"
      ],
      "text/plain": [
       "   Postcode                 Borough           Neighbourhood\n",
       "2       M3A              North York               Parkwoods\n",
       "3       M4A              North York        Victoria Village\n",
       "4       M5A        Downtown Toronto  Harbourfront (Toronto)\n",
       "5       M5A        Downtown Toronto             Regent Park\n",
       "6       M6A              North York        Lawrence Heights\n",
       "7       M6A              North York          Lawrence Manor\n",
       "8       M7A  Queen's Park (Toronto)  Queen's Park (Toronto)\n",
       "10      M9A               Etobicoke        Islington Avenue\n",
       "11      M1B    Scarborough, Toronto          Rouge, Toronto\n",
       "12      M1B    Scarborough, Toronto        Malvern, Toronto"
      ]
     },
     "execution_count": 100,
     "metadata": {},
     "output_type": "execute_result"
    }
   ],
   "source": [
    "#Replace Null Neighbourhood data with Borough\n",
    "datadf.loc[(pd.isnull(datadf.Neighbourhood), 'Neighbourhood')] = datadf.Borough\n",
    "datadf.head(10)"
   ]
  },
  {
   "cell_type": "code",
   "execution_count": null,
   "metadata": {},
   "outputs": [],
   "source": []
  },
  {
   "cell_type": "code",
   "execution_count": 101,
   "metadata": {},
   "outputs": [
    {
     "data": {
      "text/plain": [
       "(208, 3)"
      ]
     },
     "execution_count": 101,
     "metadata": {},
     "output_type": "execute_result"
    }
   ],
   "source": [
    "datadf.shape"
   ]
  },
  {
   "cell_type": "code",
   "execution_count": null,
   "metadata": {},
   "outputs": [],
   "source": []
  },
  {
   "cell_type": "code",
   "execution_count": null,
   "metadata": {},
   "outputs": [],
   "source": []
  }
 ],
 "metadata": {
  "kernelspec": {
   "display_name": "Python 3",
   "language": "python",
   "name": "python3"
  },
  "language_info": {
   "codemirror_mode": {
    "name": "ipython",
    "version": 3
   },
   "file_extension": ".py",
   "mimetype": "text/x-python",
   "name": "python",
   "nbconvert_exporter": "python",
   "pygments_lexer": "ipython3",
   "version": "3.6.8"
  }
 },
 "nbformat": 4,
 "nbformat_minor": 2
}
